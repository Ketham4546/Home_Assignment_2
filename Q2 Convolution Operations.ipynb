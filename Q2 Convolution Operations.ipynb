{
  "nbformat": 4,
  "nbformat_minor": 0,
  "metadata": {
    "colab": {
      "provenance": []
    },
    "kernelspec": {
      "name": "python3",
      "display_name": "Python 3"
    },
    "language_info": {
      "name": "python"
    }
  },
  "cells": [
    {
      "cell_type": "code",
      "execution_count": 1,
      "metadata": {
        "colab": {
          "base_uri": "https://localhost:8080/"
        },
        "id": "S4uSN4iJvu8e",
        "outputId": "ceb167f3-8c19-4a1d-fc4b-7218827d0154"
      },
      "outputs": [
        {
          "output_type": "stream",
          "name": "stdout",
          "text": [
            "Output with Stride=1, Padding='VALID':\n",
            " [[-6. -6. -6.]\n",
            " [-6. -6. -6.]\n",
            " [-6. -6. -6.]]\n",
            "\n",
            "Output with Stride=1, Padding='SAME':\n",
            " [[ -9.  -4.  -4.  -4.  13.]\n",
            " [-21.  -6.  -6.  -6.  27.]\n",
            " [-36.  -6.  -6.  -6.  42.]\n",
            " [-51.  -6.  -6.  -6.  57.]\n",
            " [-39.  -4.  -4.  -4.  43.]]\n",
            "\n",
            "Output with Stride=2, Padding='VALID':\n",
            " [[-6. -6.]\n",
            " [-6. -6.]]\n",
            "\n",
            "Output with Stride=2, Padding='SAME':\n",
            " [[ -9.  -4.  13.]\n",
            " [-36.  -6.  42.]\n",
            " [-39.  -4.  43.]]\n"
          ]
        }
      ],
      "source": [
        "import numpy as np\n",
        "import tensorflow as tf\n",
        "\n",
        "# Define a 5x5 input matrix\n",
        "input_matrix = np.array([\n",
        "    [1, 2, 3, 4, 5],\n",
        "    [6, 7, 8, 9, 10],\n",
        "    [11, 12, 13, 14, 15],\n",
        "    [16, 17, 18, 19, 20],\n",
        "    [21, 22, 23, 24, 25]\n",
        "], dtype=np.float32)\n",
        "\n",
        "# Reshape to match TensorFlow's expected input format: (batch_size, height, width, channels)\n",
        "input_tensor = tf.constant(input_matrix.reshape(1, 5, 5, 1))\n",
        "\n",
        "# Define a 3x3 kernel\n",
        "kernel = np.array([\n",
        "    [1, 0, -1],\n",
        "    [1, 0, -1],\n",
        "    [1, 0, -1]\n",
        "], dtype=np.float32).reshape(3, 3, 1, 1)\n",
        "\n",
        "# Perform convolution with different stride and padding values\n",
        "conv_valid_s1 = tf.nn.conv2d(input_tensor, kernel, strides=1, padding='VALID')\n",
        "conv_same_s1 = tf.nn.conv2d(input_tensor, kernel, strides=1, padding='SAME')\n",
        "conv_valid_s2 = tf.nn.conv2d(input_tensor, kernel, strides=2, padding='VALID')\n",
        "conv_same_s2 = tf.nn.conv2d(input_tensor, kernel, strides=2, padding='SAME')\n",
        "\n",
        "# Print output feature maps\n",
        "print(\"Output with Stride=1, Padding='VALID':\\n\", conv_valid_s1.numpy().squeeze())\n",
        "print(\"\\nOutput with Stride=1, Padding='SAME':\\n\", conv_same_s1.numpy().squeeze())\n",
        "print(\"\\nOutput with Stride=2, Padding='VALID':\\n\", conv_valid_s2.numpy().squeeze())\n",
        "print(\"\\nOutput with Stride=2, Padding='SAME':\\n\", conv_same_s2.numpy().squeeze())\n"
      ]
    },
    {
      "cell_type": "code",
      "source": [],
      "metadata": {
        "id": "EFY7IX4qwEbd"
      },
      "execution_count": null,
      "outputs": []
    }
  ]
}